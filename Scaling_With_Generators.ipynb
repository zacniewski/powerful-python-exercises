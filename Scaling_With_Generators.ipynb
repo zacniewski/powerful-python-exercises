{
  "nbformat": 4,
  "nbformat_minor": 0,
  "metadata": {
    "colab": {
      "name": "Scaling With Generators.ipynb",
      "provenance": [],
      "authorship_tag": "ABX9TyNr9IE3aYMhOaHvAdssErue"
    },
    "kernelspec": {
      "name": "python3",
      "display_name": "Python 3"
    },
    "language_info": {
      "name": "python"
    }
  },
  "cells": [
    {
      "cell_type": "markdown",
      "source": [
        "### Iteration with iter()"
      ],
      "metadata": {
        "id": "d8H0QZn8i0cq"
      }
    },
    {
      "cell_type": "code",
      "execution_count": 2,
      "metadata": {
        "colab": {
          "base_uri": "https://localhost:8080/"
        },
        "outputId": "824fbc7b-5706-4d07-b85c-8507aa95a102",
        "id": "JTR60DYPeMQG"
      },
      "outputs": [
        {
          "output_type": "stream",
          "name": "stdout",
          "text": [
            "Powerful Python has just started!\n"
          ]
        }
      ],
      "source": [
        "print(\"Powerful Python has just started!\")"
      ]
    },
    {
      "cell_type": "code",
      "source": [
        "numbers = [7 , 4 , 11 , 3]\n",
        "numbers_iter = iter(numbers)"
      ],
      "metadata": {
        "id": "RRVw1k-wjngW"
      },
      "execution_count": 5,
      "outputs": []
    },
    {
      "cell_type": "code",
      "source": [
        "list(numbers_iter)"
      ],
      "metadata": {
        "colab": {
          "base_uri": "https://localhost:8080/"
        },
        "id": "1UlU24pSkATF",
        "outputId": "b7bb5203-04ac-4702-ba13-4cf4531b3a7c"
      },
      "execution_count": 6,
      "outputs": [
        {
          "output_type": "execute_result",
          "data": {
            "text/plain": [
              "[7, 4, 11, 3]"
            ]
          },
          "metadata": {},
          "execution_count": 6
        }
      ]
    },
    {
      "cell_type": "code",
      "source": [
        "id(numbers)"
      ],
      "metadata": {
        "colab": {
          "base_uri": "https://localhost:8080/"
        },
        "id": "XPH5XspXl8hP",
        "outputId": "ad49a93d-a0cf-48ca-921a-386ff163eb34"
      },
      "execution_count": 7,
      "outputs": [
        {
          "output_type": "execute_result",
          "data": {
            "text/plain": [
              "139629257221536"
            ]
          },
          "metadata": {},
          "execution_count": 7
        }
      ]
    },
    {
      "cell_type": "code",
      "source": [
        "id(numbers_iter)"
      ],
      "metadata": {
        "colab": {
          "base_uri": "https://localhost:8080/"
        },
        "id": "VBWjCMflmBCz",
        "outputId": "afcf23f5-d546-4052-9e2b-a343d1949b2b"
      },
      "execution_count": 8,
      "outputs": [
        {
          "output_type": "execute_result",
          "data": {
            "text/plain": [
              "139629257177232"
            ]
          },
          "metadata": {},
          "execution_count": 8
        }
      ]
    },
    {
      "cell_type": "code",
      "source": [
        "numbers.__iter__"
      ],
      "metadata": {
        "colab": {
          "base_uri": "https://localhost:8080/"
        },
        "id": "U64vKxlUngUK",
        "outputId": "c2b93010-e3f4-4986-a327-53ea7dc0ac6a"
      },
      "execution_count": 9,
      "outputs": [
        {
          "output_type": "execute_result",
          "data": {
            "text/plain": [
              "<method-wrapper '__iter__' of list_iterator object at 0x7efdf8463890>"
            ]
          },
          "metadata": {},
          "execution_count": 9
        }
      ]
    },
    {
      "cell_type": "code",
      "source": [
        "numbers_iter.__iter__"
      ],
      "metadata": {
        "id": "4Wcvi-7goCNR"
      },
      "execution_count": null,
      "outputs": []
    }
  ]
}