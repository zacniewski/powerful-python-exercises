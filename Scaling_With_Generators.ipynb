{
  "nbformat": 4,
  "nbformat_minor": 0,
  "metadata": {
    "colab": {
      "name": "Scaling With Generators.ipynb",
      "provenance": [],
      "authorship_tag": "ABX9TyNBTMwIrobfhBHjlA4Hj8oL",
      "include_colab_link": true
    },
    "kernelspec": {
      "name": "python3",
      "display_name": "Python 3"
    },
    "language_info": {
      "name": "python"
    }
  },
  "cells": [
    {
      "cell_type": "markdown",
      "metadata": {
        "id": "view-in-github",
        "colab_type": "text"
      },
      "source": [
        "<a href=\"https://colab.research.google.com/github/zacniewski/powerful-python-exercises/blob/main/Scaling_With_Generators.ipynb\" target=\"_parent\"><img src=\"https://colab.research.google.com/assets/colab-badge.svg\" alt=\"Open In Colab\"/></a>"
      ]
    },
    {
      "cell_type": "markdown",
      "source": [
        "### Iteration with iter()"
      ],
      "metadata": {
        "id": "d8H0QZn8i0cq"
      }
    },
    {
      "cell_type": "code",
      "execution_count": 1,
      "metadata": {
        "colab": {
          "base_uri": "https://localhost:8080/"
        },
        "outputId": "b9aa5fd1-1c97-4890-ef91-436faf3acb59",
        "id": "JTR60DYPeMQG"
      },
      "outputs": [
        {
          "output_type": "stream",
          "name": "stdout",
          "text": [
            "Powerful Python has just started!\n"
          ]
        }
      ],
      "source": [
        "print(\"Powerful Python has just started!\")"
      ]
    },
    {
      "cell_type": "code",
      "source": [
        "numbers = [7 , 4 , 11 , 3]\n",
        "numbers_iter = iter(numbers)"
      ],
      "metadata": {
        "id": "RRVw1k-wjngW"
      },
      "execution_count": 2,
      "outputs": []
    },
    {
      "cell_type": "code",
      "source": [
        "list(numbers_iter)"
      ],
      "metadata": {
        "colab": {
          "base_uri": "https://localhost:8080/"
        },
        "id": "1UlU24pSkATF",
        "outputId": "f4ad27ed-602a-4b50-a502-2b0b54a77d34"
      },
      "execution_count": 3,
      "outputs": [
        {
          "output_type": "execute_result",
          "data": {
            "text/plain": [
              "[7, 4, 11, 3]"
            ]
          },
          "metadata": {},
          "execution_count": 3
        }
      ]
    },
    {
      "cell_type": "code",
      "source": [
        "id(numbers)"
      ],
      "metadata": {
        "colab": {
          "base_uri": "https://localhost:8080/"
        },
        "id": "XPH5XspXl8hP",
        "outputId": "c2b9fce7-6dfa-4067-aaa8-b5964be6a8ac"
      },
      "execution_count": 4,
      "outputs": [
        {
          "output_type": "execute_result",
          "data": {
            "text/plain": [
              "139825678783744"
            ]
          },
          "metadata": {},
          "execution_count": 4
        }
      ]
    },
    {
      "cell_type": "code",
      "source": [
        "id(numbers_iter)"
      ],
      "metadata": {
        "colab": {
          "base_uri": "https://localhost:8080/"
        },
        "id": "VBWjCMflmBCz",
        "outputId": "f6a5c24e-47e3-4b78-f733-295725dabc06"
      },
      "execution_count": 5,
      "outputs": [
        {
          "output_type": "execute_result",
          "data": {
            "text/plain": [
              "139825678832336"
            ]
          },
          "metadata": {},
          "execution_count": 5
        }
      ]
    },
    {
      "cell_type": "code",
      "source": [
        "numbers.__iter__"
      ],
      "metadata": {
        "colab": {
          "base_uri": "https://localhost:8080/"
        },
        "id": "U64vKxlUngUK",
        "outputId": "dc6b0ca4-bf88-4ef6-c27c-0861ec76056e"
      },
      "execution_count": 6,
      "outputs": [
        {
          "output_type": "execute_result",
          "data": {
            "text/plain": [
              "<method-wrapper '__iter__' of list object at 0x7f2bb3ea1500>"
            ]
          },
          "metadata": {},
          "execution_count": 6
        }
      ]
    },
    {
      "cell_type": "code",
      "source": [
        "numbers_iter.__iter__"
      ],
      "metadata": {
        "colab": {
          "base_uri": "https://localhost:8080/"
        },
        "id": "4Wcvi-7goCNR",
        "outputId": "854286ed-2a96-4547-f0d8-2ce80c3a9dfc"
      },
      "execution_count": 7,
      "outputs": [
        {
          "output_type": "execute_result",
          "data": {
            "text/plain": [
              "<method-wrapper '__iter__' of list_iterator object at 0x7f2bb3ead2d0>"
            ]
          },
          "metadata": {},
          "execution_count": 7
        }
      ]
    },
    {
      "cell_type": "code",
      "source": [
        "names = [\"Tom\", \"Shelly\", \"Garth\"]\n",
        "names_iter = iter(names)"
      ],
      "metadata": {
        "id": "Az1b2S5hoZqX"
      },
      "execution_count": 10,
      "outputs": []
    },
    {
      "cell_type": "code",
      "source": [
        "print(next(names_iter))"
      ],
      "metadata": {
        "colab": {
          "base_uri": "https://localhost:8080/"
        },
        "id": "xqMuFq6tpkY5",
        "outputId": "cb9204d4-7243-4673-c66f-ed09c98a4d2c"
      },
      "execution_count": 11,
      "outputs": [
        {
          "output_type": "stream",
          "name": "stdout",
          "text": [
            "Tom\n"
          ]
        }
      ]
    },
    {
      "cell_type": "code",
      "source": [
        ""
      ],
      "metadata": {
        "id": "bQaSxJJXqQFD"
      },
      "execution_count": null,
      "outputs": []
    }
  ]
}