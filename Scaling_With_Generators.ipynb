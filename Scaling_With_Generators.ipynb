{
  "nbformat": 4,
  "nbformat_minor": 0,
  "metadata": {
    "colab": {
      "name": "Scaling With Generators.ipynb",
      "provenance": [],
      "authorship_tag": "ABX9TyNI0KzJhmWoiyY+ZZmrWnKV"
    },
    "kernelspec": {
      "name": "python3",
      "display_name": "Python 3"
    },
    "language_info": {
      "name": "python"
    }
  },
  "cells": [
    {
      "cell_type": "markdown",
      "source": [
        "### Iteration with iter()"
      ],
      "metadata": {
        "id": "d8H0QZn8i0cq"
      }
    },
    {
      "cell_type": "code",
      "execution_count": 2,
      "metadata": {
        "colab": {
          "base_uri": "https://localhost:8080/"
        },
        "outputId": "824fbc7b-5706-4d07-b85c-8507aa95a102",
        "id": "JTR60DYPeMQG"
      },
      "outputs": [
        {
          "output_type": "stream",
          "name": "stdout",
          "text": [
            "Powerful Python has just started!\n"
          ]
        }
      ],
      "source": [
        "print(\"Powerful Python has just started!\")"
      ]
    },
    {
      "cell_type": "code",
      "source": [
        "numbers = [7 , 4 , 11 , 3]\n",
        "numbers_iter = iter(numbers)"
      ],
      "metadata": {
        "id": "RRVw1k-wjngW"
      },
      "execution_count": 5,
      "outputs": []
    },
    {
      "cell_type": "code",
      "source": [
        "list(numbers_iter)"
      ],
      "metadata": {
        "colab": {
          "base_uri": "https://localhost:8080/"
        },
        "id": "1UlU24pSkATF",
        "outputId": "b7bb5203-04ac-4702-ba13-4cf4531b3a7c"
      },
      "execution_count": 6,
      "outputs": [
        {
          "output_type": "execute_result",
          "data": {
            "text/plain": [
              "[7, 4, 11, 3]"
            ]
          },
          "metadata": {},
          "execution_count": 6
        }
      ]
    }
  ]
}