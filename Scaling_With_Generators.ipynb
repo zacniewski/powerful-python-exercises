{
  "nbformat": 4,
  "nbformat_minor": 0,
  "metadata": {
    "colab": {
      "name": "Scaling With Generators.ipynb",
      "provenance": [],
      "toc_visible": true,
      "authorship_tag": "ABX9TyOojZT60I6SpiaEkesVYmzK",
      "include_colab_link": true
    },
    "kernelspec": {
      "name": "python3",
      "display_name": "Python 3"
    },
    "language_info": {
      "name": "python"
    }
  },
  "cells": [
    {
      "cell_type": "markdown",
      "metadata": {
        "id": "view-in-github",
        "colab_type": "text"
      },
      "source": [
        "<a href=\"https://colab.research.google.com/github/zacniewski/powerful-python-exercises/blob/main/Scaling_With_Generators.ipynb\" target=\"_parent\"><img src=\"https://colab.research.google.com/assets/colab-badge.svg\" alt=\"Open In Colab\"/></a>"
      ]
    },
    {
      "cell_type": "markdown",
      "source": [
        "### Iteration with iter()"
      ],
      "metadata": {
        "id": "d8H0QZn8i0cq"
      }
    },
    {
      "cell_type": "code",
      "execution_count": 2,
      "metadata": {
        "colab": {
          "base_uri": "https://localhost:8080/"
        },
        "outputId": "5a209518-fd46-42c0-bf40-60f8c9d99d65",
        "id": "JTR60DYPeMQG"
      },
      "outputs": [
        {
          "output_type": "stream",
          "name": "stdout",
          "text": [
            "Powerful Python has just started!\n"
          ]
        }
      ],
      "source": [
        "print(\"Powerful Python has just started!\")"
      ]
    },
    {
      "cell_type": "code",
      "source": [
        "numbers = [7 , 4 , 11 , 3]\n",
        "numbers_iter = iter(numbers)"
      ],
      "metadata": {
        "id": "RRVw1k-wjngW"
      },
      "execution_count": 3,
      "outputs": []
    },
    {
      "cell_type": "code",
      "source": [
        "list(numbers_iter)"
      ],
      "metadata": {
        "colab": {
          "base_uri": "https://localhost:8080/"
        },
        "id": "1UlU24pSkATF",
        "outputId": "32c0c6a4-4b21-4ed0-b783-1f28f05c442b"
      },
      "execution_count": 4,
      "outputs": [
        {
          "output_type": "execute_result",
          "data": {
            "text/plain": [
              "[7, 4, 11, 3]"
            ]
          },
          "metadata": {},
          "execution_count": 4
        }
      ]
    },
    {
      "cell_type": "code",
      "source": [
        "id(numbers)"
      ],
      "metadata": {
        "colab": {
          "base_uri": "https://localhost:8080/"
        },
        "id": "XPH5XspXl8hP",
        "outputId": "761aacd7-702e-478b-c9da-098c0314aede"
      },
      "execution_count": 5,
      "outputs": [
        {
          "output_type": "execute_result",
          "data": {
            "text/plain": [
              "140588714111536"
            ]
          },
          "metadata": {},
          "execution_count": 5
        }
      ]
    },
    {
      "cell_type": "code",
      "source": [
        "id(numbers_iter)"
      ],
      "metadata": {
        "colab": {
          "base_uri": "https://localhost:8080/"
        },
        "id": "VBWjCMflmBCz",
        "outputId": "1769c337-ba4e-4006-c30b-1d5ec877bda0"
      },
      "execution_count": 6,
      "outputs": [
        {
          "output_type": "execute_result",
          "data": {
            "text/plain": [
              "140588782339088"
            ]
          },
          "metadata": {},
          "execution_count": 6
        }
      ]
    },
    {
      "cell_type": "code",
      "source": [
        "numbers.__iter__"
      ],
      "metadata": {
        "colab": {
          "base_uri": "https://localhost:8080/"
        },
        "id": "U64vKxlUngUK",
        "outputId": "51683cb2-2911-49ac-c836-c82199f6870f"
      },
      "execution_count": 7,
      "outputs": [
        {
          "output_type": "execute_result",
          "data": {
            "text/plain": [
              "<method-wrapper '__iter__' of list object at 0x7fdd5c5d3230>"
            ]
          },
          "metadata": {},
          "execution_count": 7
        }
      ]
    },
    {
      "cell_type": "code",
      "source": [
        "numbers_iter.__iter__"
      ],
      "metadata": {
        "colab": {
          "base_uri": "https://localhost:8080/"
        },
        "id": "4Wcvi-7goCNR",
        "outputId": "2743cc38-f94e-403f-e3b2-22cca5a2a7c9"
      },
      "execution_count": 8,
      "outputs": [
        {
          "output_type": "execute_result",
          "data": {
            "text/plain": [
              "<method-wrapper '__iter__' of list_iterator object at 0x7fdd606e4410>"
            ]
          },
          "metadata": {},
          "execution_count": 8
        }
      ]
    },
    {
      "cell_type": "code",
      "source": [
        "names = [\"Tom\", \"Shelly\", \"Garth\"]\n",
        "names_iter = iter(names)"
      ],
      "metadata": {
        "id": "Az1b2S5hoZqX"
      },
      "execution_count": 9,
      "outputs": []
    },
    {
      "cell_type": "code",
      "source": [
        "print(next(names_iter))"
      ],
      "metadata": {
        "colab": {
          "base_uri": "https://localhost:8080/"
        },
        "id": "xqMuFq6tpkY5",
        "outputId": "d5063a30-97bf-442e-faf5-d7721ec71275"
      },
      "execution_count": 10,
      "outputs": [
        {
          "output_type": "stream",
          "name": "stdout",
          "text": [
            "Tom\n"
          ]
        }
      ]
    },
    {
      "cell_type": "code",
      "source": [
        "print(next(names_iter))"
      ],
      "metadata": {
        "id": "bQaSxJJXqQFD",
        "colab": {
          "base_uri": "https://localhost:8080/"
        },
        "outputId": "d3a989cd-0e69-484e-9133-0dc791cbd919"
      },
      "execution_count": 11,
      "outputs": [
        {
          "output_type": "stream",
          "name": "stdout",
          "text": [
            "Shelly\n"
          ]
        }
      ]
    },
    {
      "cell_type": "markdown",
      "source": [
        "Squares numbers with generator"
      ],
      "metadata": {
        "id": "8J-vaZwDKlYH"
      }
    },
    {
      "cell_type": "code",
      "source": [
        "def gen_squares(max_num: int):\n",
        "  for num in range(max_num):\n",
        "    yield num ** 2"
      ],
      "metadata": {
        "id": "M5ilKBfRKqxN"
      },
      "execution_count": 12,
      "outputs": []
    },
    {
      "cell_type": "code",
      "source": [
        "MAX = 50\n",
        "for square in gen_squares(MAX):\n",
        "  print(square)"
      ],
      "metadata": {
        "colab": {
          "base_uri": "https://localhost:8080/"
        },
        "id": "QtHwzpA8Gg9E",
        "outputId": "21f26de0-6581-49df-cab6-0769c2c2b49b"
      },
      "execution_count": 13,
      "outputs": [
        {
          "output_type": "stream",
          "name": "stdout",
          "text": [
            "0\n",
            "1\n",
            "4\n",
            "9\n",
            "16\n",
            "25\n",
            "36\n",
            "49\n",
            "64\n",
            "81\n",
            "100\n",
            "121\n",
            "144\n",
            "169\n",
            "196\n",
            "225\n",
            "256\n",
            "289\n",
            "324\n",
            "361\n",
            "400\n",
            "441\n",
            "484\n",
            "529\n",
            "576\n",
            "625\n",
            "676\n",
            "729\n",
            "784\n",
            "841\n",
            "900\n",
            "961\n",
            "1024\n",
            "1089\n",
            "1156\n",
            "1225\n",
            "1296\n",
            "1369\n",
            "1444\n",
            "1521\n",
            "1600\n",
            "1681\n",
            "1764\n",
            "1849\n",
            "1936\n",
            "2025\n",
            "2116\n",
            "2209\n",
            "2304\n",
            "2401\n"
          ]
        }
      ]
    }
  ]
}