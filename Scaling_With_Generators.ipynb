{
  "nbformat": 4,
  "nbformat_minor": 0,
  "metadata": {
    "colab": {
      "name": "Scaling With Generators.ipynb",
      "provenance": [],
      "authorship_tag": "ABX9TyNzUDoBloiXn1JzrgpxtRuZ",
      "include_colab_link": true
    },
    "kernelspec": {
      "name": "python3",
      "display_name": "Python 3"
    },
    "language_info": {
      "name": "python"
    }
  },
  "cells": [
    {
      "cell_type": "markdown",
      "metadata": {
        "id": "view-in-github",
        "colab_type": "text"
      },
      "source": [
        "<a href=\"https://colab.research.google.com/github/zacniewski/powerful-python-exercises/blob/main/Scaling_With_Generators.ipynb\" target=\"_parent\"><img src=\"https://colab.research.google.com/assets/colab-badge.svg\" alt=\"Open In Colab\"/></a>"
      ]
    },
    {
      "cell_type": "markdown",
      "source": [
        "### Iteration with iter()"
      ],
      "metadata": {
        "id": "d8H0QZn8i0cq"
      }
    },
    {
      "cell_type": "code",
      "execution_count": 1,
      "metadata": {
        "colab": {
          "base_uri": "https://localhost:8080/"
        },
        "outputId": "29248106-0185-4992-eabb-130054c5ded1",
        "id": "JTR60DYPeMQG"
      },
      "outputs": [
        {
          "output_type": "stream",
          "name": "stdout",
          "text": [
            "Powerful Python\n"
          ]
        }
      ],
      "source": [
        "print(\"Powerful Python\")"
      ]
    },
    {
      "cell_type": "code",
      "source": [
        ""
      ],
      "metadata": {
        "id": "RRVw1k-wjngW"
      },
      "execution_count": null,
      "outputs": []
    }
  ]
}