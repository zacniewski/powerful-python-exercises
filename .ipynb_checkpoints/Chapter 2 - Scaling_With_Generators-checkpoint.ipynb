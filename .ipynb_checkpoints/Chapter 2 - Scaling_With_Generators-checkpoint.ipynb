{
 "cells": [
  {
   "cell_type": "markdown",
   "metadata": {
    "colab_type": "text",
    "id": "view-in-github"
   },
   "source": [
    "<a href=\"https://colab.research.google.com/github/zacniewski/powerful-python-exercises/blob/main/Scaling_With_Generators.ipynb\" target=\"_parent\"><img src=\"https://colab.research.google.com/assets/colab-badge.svg\" alt=\"Open In Colab\"/></a>"
   ]
  },
  {
   "cell_type": "markdown",
   "metadata": {
    "id": "d8H0QZn8i0cq"
   },
   "source": [
    "### Iteration with iter()"
   ]
  },
  {
   "cell_type": "code",
   "execution_count": 1,
   "metadata": {
    "colab": {
     "base_uri": "https://localhost:8080/"
    },
    "id": "JTR60DYPeMQG",
    "outputId": "b9aa5fd1-1c97-4890-ef91-436faf3acb59"
   },
   "outputs": [
    {
     "name": "stdout",
     "output_type": "stream",
     "text": [
      "Powerful Python has just started!\n"
     ]
    }
   ],
   "source": [
    "print(\"Powerful Python has just started!\")"
   ]
  },
  {
   "cell_type": "code",
   "execution_count": 2,
   "metadata": {
    "id": "RRVw1k-wjngW"
   },
   "outputs": [],
   "source": [
    "numbers = [7 , 4 , 11 , 3]\n",
    "numbers_iter = iter(numbers)"
   ]
  },
  {
   "cell_type": "code",
   "execution_count": 3,
   "metadata": {
    "colab": {
     "base_uri": "https://localhost:8080/"
    },
    "id": "1UlU24pSkATF",
    "outputId": "f4ad27ed-602a-4b50-a502-2b0b54a77d34"
   },
   "outputs": [
    {
     "data": {
      "text/plain": [
       "[7, 4, 11, 3]"
      ]
     },
     "execution_count": 3,
     "metadata": {},
     "output_type": "execute_result"
    }
   ],
   "source": [
    "list(numbers_iter)"
   ]
  },
  {
   "cell_type": "code",
   "execution_count": 4,
   "metadata": {
    "colab": {
     "base_uri": "https://localhost:8080/"
    },
    "id": "XPH5XspXl8hP",
    "outputId": "c2b9fce7-6dfa-4067-aaa8-b5964be6a8ac"
   },
   "outputs": [
    {
     "data": {
      "text/plain": [
       "140276652560640"
      ]
     },
     "execution_count": 4,
     "metadata": {},
     "output_type": "execute_result"
    }
   ],
   "source": [
    "id(numbers)"
   ]
  },
  {
   "cell_type": "code",
   "execution_count": 5,
   "metadata": {
    "colab": {
     "base_uri": "https://localhost:8080/"
    },
    "id": "VBWjCMflmBCz",
    "outputId": "f6a5c24e-47e3-4b78-f733-295725dabc06"
   },
   "outputs": [
    {
     "data": {
      "text/plain": [
       "140276670212848"
      ]
     },
     "execution_count": 5,
     "metadata": {},
     "output_type": "execute_result"
    }
   ],
   "source": [
    "id(numbers_iter)"
   ]
  },
  {
   "cell_type": "code",
   "execution_count": 6,
   "metadata": {
    "colab": {
     "base_uri": "https://localhost:8080/"
    },
    "id": "U64vKxlUngUK",
    "outputId": "dc6b0ca4-bf88-4ef6-c27c-0861ec76056e"
   },
   "outputs": [
    {
     "data": {
      "text/plain": [
       "<method-wrapper '__iter__' of list object at 0x7f94b40bd100>"
      ]
     },
     "execution_count": 6,
     "metadata": {},
     "output_type": "execute_result"
    }
   ],
   "source": [
    "numbers.__iter__"
   ]
  },
  {
   "cell_type": "code",
   "execution_count": 7,
   "metadata": {
    "colab": {
     "base_uri": "https://localhost:8080/"
    },
    "id": "4Wcvi-7goCNR",
    "outputId": "854286ed-2a96-4547-f0d8-2ce80c3a9dfc"
   },
   "outputs": [
    {
     "data": {
      "text/plain": [
       "<method-wrapper '__iter__' of list_iterator object at 0x7f94b5192af0>"
      ]
     },
     "execution_count": 7,
     "metadata": {},
     "output_type": "execute_result"
    }
   ],
   "source": [
    "numbers_iter.__iter__"
   ]
  },
  {
   "cell_type": "code",
   "execution_count": 8,
   "metadata": {
    "id": "Az1b2S5hoZqX"
   },
   "outputs": [],
   "source": [
    "names = [\"Tom\", \"Shelly\", \"Garth\"]\n",
    "names_iter = iter(names)"
   ]
  },
  {
   "cell_type": "code",
   "execution_count": 9,
   "metadata": {
    "colab": {
     "base_uri": "https://localhost:8080/"
    },
    "id": "xqMuFq6tpkY5",
    "outputId": "cb9204d4-7243-4673-c66f-ed09c98a4d2c"
   },
   "outputs": [
    {
     "name": "stdout",
     "output_type": "stream",
     "text": [
      "Tom\n"
     ]
    }
   ],
   "source": [
    "print(next(names_iter))"
   ]
  },
  {
   "cell_type": "code",
   "execution_count": 10,
   "metadata": {
    "id": "bQaSxJJXqQFD"
   },
   "outputs": [
    {
     "name": "stdout",
     "output_type": "stream",
     "text": [
      "Shelly\n"
     ]
    }
   ],
   "source": [
    "print(next(names_iter))"
   ]
  }
 ],
 "metadata": {
  "colab": {
   "authorship_tag": "ABX9TyNBTMwIrobfhBHjlA4Hj8oL",
   "include_colab_link": true,
   "name": "Scaling With Generators.ipynb",
   "provenance": []
  },
  "kernelspec": {
   "display_name": "Python 3 (ipykernel)",
   "language": "python",
   "name": "python3"
  },
  "language_info": {
   "codemirror_mode": {
    "name": "ipython",
    "version": 3
   },
   "file_extension": ".py",
   "mimetype": "text/x-python",
   "name": "python",
   "nbconvert_exporter": "python",
   "pygments_lexer": "ipython3",
   "version": "3.8.10"
  }
 },
 "nbformat": 4,
 "nbformat_minor": 1
}
